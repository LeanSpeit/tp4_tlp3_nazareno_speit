{
 "cells": [
  {
   "cell_type": "markdown",
   "id": "3e4771e8",
   "metadata": {},
   "source": [
    "# Trabajo Practico n4 - Introduccion a numpy.\n",
    "## Criterios de evaluación.\n",
    "\n",
    "* Se deben utilizar nombres de variables descriptivos y claros (Utilizar la nomeclatura correspondiente para los nombres de variables).\n",
    "* Comentarios claros y concisos que expliquen el propósito de cada sección del código.\n",
    "* Utilizar mensajes de commit **descriptivos**. (Puedes utilizar la extension CONVENTIONAL COMMIT de VS-CODE). \n",
    "* Entrega en tiempo y forma.\n",
    "* Todo el código desarrollado debe ser subido a un repositorio en GitHub (el nombre del repositorio de seguir la siguiente estructura: tp4_tlp3_nombre_apellido).\n",
    "* Para resolver las actividades se debe insertar casillas de codigo entre cada actividad del cuaderno de Jupyter\n",
    "\n",
    "### ¡Importante!\n",
    "**El incumplimiento de los criterios de evaluación restará puntos en la nota final del práctico!**"
   ]
  },
  {
   "cell_type": "markdown",
   "id": "6f3340d9",
   "metadata": {},
   "source": [
    "**Importaciones:**"
   ]
  },
  {
   "cell_type": "code",
   "execution_count": 8,
   "id": "783ab170",
   "metadata": {},
   "outputs": [],
   "source": [
    "import numpy as np\n",
    "from random import randint"
   ]
  },
  {
   "cell_type": "markdown",
   "id": "c5ba7292",
   "metadata": {},
   "source": [
    "**Actividad 1:**: Crea un array de NumPy que contenga los números del 0 al 9. (Debes utilizar un metodo de numpy para su creacion.)"
   ]
  },
  {
   "cell_type": "code",
   "execution_count": 9,
   "id": "75029034",
   "metadata": {},
   "outputs": [
    {
     "name": "stdout",
     "output_type": "stream",
     "text": [
      "[0 1 2 3 4 5 6 7 8 9]\n"
     ]
    }
   ],
   "source": [
    "#todo: \n",
    "\n",
    "import numpy as np\n",
    "\n",
    "# Crea un array con los números del 0 al 9\n",
    "array = np.arange(10)\n",
    "\n",
    "# Imprime el array\n",
    "print(array)"
   ]
  },
  {
   "cell_type": "markdown",
   "id": "cb894927",
   "metadata": {},
   "source": [
    "**Actividad 2:** Crea un array de 5 ceros, y luego cambia el tercer elemento (índice 2) para que sea 5. (Debes utilizar un metodo de numpy para su creacion.)"
   ]
  },
  {
   "cell_type": "code",
   "execution_count": 10,
   "id": "b9cd04a0",
   "metadata": {},
   "outputs": [
    {
     "name": "stdout",
     "output_type": "stream",
     "text": [
      "[0. 0. 5. 0. 0.]\n"
     ]
    }
   ],
   "source": [
    "#todo:\n",
    "import numpy as np\n",
    "\n",
    "# Crea un array de 5 ceros\n",
    "array = np.zeros(5)\n",
    "\n",
    "# Cambia el tercer elemento (índice 2) a 5\n",
    "array[2] = 5\n",
    "\n",
    "print(array)"
   ]
  },
  {
   "cell_type": "markdown",
   "id": "000352a3",
   "metadata": {},
   "source": [
    "**Actividad 3:** Genera una matriz 3x3 de números aleatorios entre 0 y 1."
   ]
  },
  {
   "cell_type": "code",
   "execution_count": 16,
   "id": "e74354c9",
   "metadata": {},
   "outputs": [
    {
     "name": "stdout",
     "output_type": "stream",
     "text": [
      "[[0.65751111 0.28348399 0.09171614]\n",
      " [0.36675098 0.56632405 0.79608838]\n",
      " [0.71795535 0.126721   0.34165827]]\n"
     ]
    }
   ],
   "source": [
    "#todo: \n",
    "import numpy as np\n",
    "\n",
    "# Genera una matriz 3x3 de números aleatorios entre 0 y 1\n",
    "matriz = np.random.rand (3,3)\n",
    "\n",
    "print(matriz)\n"
   ]
  },
  {
   "cell_type": "markdown",
   "id": "6611aaf8",
   "metadata": {},
   "source": [
    "**Actividad 4:** Dado el siguiente array `arr = np.array([10, 20, 30, 40, 50])`\n",
    "1. Suma 5 a cada elemento.\n",
    "2. Multiplica todo por un numero aleatorio (utiliza el modulo random para generarlo.)"
   ]
  },
  {
   "cell_type": "code",
   "execution_count": null,
   "id": "ed416e11",
   "metadata": {},
   "outputs": [],
   "source": [
    "#todo:\n",
    "import numpy as np\n",
    "\n",
    "# Array inicial\n",
    "arr = np.array([10, 20, 30, 40, 50])\n",
    "\n",
    "# Suma 5 a cada elemento\n",
    "arr_sum = arr + 5\n",
    "\n",
    "# 2. Genera un número aleatorio\n",
    "random_num = np.random.random() * 10  # Esto genera un número aleatorio entre 0 y 10\n",
    "\n",
    "# Multiplica todo por el número aleatorio\n",
    "arr_mul = arr_sum * random_num\n",
    "\n",
    "# Imprimir los resultados\n",
    "print(f\"Array original: {arr}\")\n",
    "print(f\"Array después de sumar 5: {arr_sum}\")\n",
    "print(f\"Número aleatorio generado: {random_num}\")\n",
    "print(f\"Array después de multiplicar por el número aleatorio: {arr_mul}\")\n"
   ]
  },
  {
   "cell_type": "markdown",
   "id": "fbd05c4d",
   "metadata": {},
   "source": [
    "**Actividad 5:** Crea una matriz identidad de tamaño 4x4 (unos en la diagonal principal y ceros en el resto)."
   ]
  },
  {
   "cell_type": "code",
   "execution_count": null,
   "id": "6811c19f",
   "metadata": {},
   "outputs": [],
   "source": [
    "#todo:\n",
    "import numpy as np\n",
    "\n",
    "# Crea una matriz identidad de tamaño 4x4\n",
    "matriz_identidad = np.eye(4)\n",
    "\n",
    "print(matriz_identidad)\n"
   ]
  },
  {
   "cell_type": "markdown",
   "id": "3ec18459",
   "metadata": {},
   "source": [
    "**Actividad 6:** Crea un array que comience en 0 hasta el 20, pero que solo tenga numeros pares y luego realiza las 4 operaciones basicas. (suma, resta, multiplicacion, division)."
   ]
  },
  {
   "cell_type": "code",
   "execution_count": null,
   "id": "f0c02872",
   "metadata": {},
   "outputs": [],
   "source": [
    "#todo: \n",
    "import numpy as np\n",
    "\n",
    "# Crea un array con números pares de 0 a 20\n",
    "array_pares = np.arange(0, 21, 2)\n",
    "\n",
    "# Operaciones básicas (Ejemplos)\n",
    "\n",
    "# Suma\n",
    "suma = array_pares + 5\n",
    "\n",
    "# Resta\n",
    "resta = array_pares - 3\n",
    "\n",
    "# Multiplicación\n",
    "multiplicacion = array_pares * 2\n",
    "\n",
    "# División\n",
    "division = array_pares / 2\n",
    "\n",
    "# Imprime los resultados\n",
    "print(f\"Array original (números pares): {array_pares}\")\n",
    "print(f\"Suma de 5 a cada elemento: {suma}\")\n",
    "print(f\"Resta de 3 a cada elemento: {resta}\")\n",
    "print(f\"Multiplicación por 2 a cada elemento: {multiplicacion}\")\n",
    "print(f\"División por 2 a cada elemento: {division}\")\n"
   ]
  }
 ],
 "metadata": {
  "kernelspec": {
   "display_name": "mi_entorno",
   "language": "python",
   "name": "python3"
  },
  "language_info": {
   "codemirror_mode": {
    "name": "ipython",
    "version": 3
   },
   "file_extension": ".py",
   "mimetype": "text/x-python",
   "name": "python",
   "nbconvert_exporter": "python",
   "pygments_lexer": "ipython3",
   "version": "3.12.9"
  }
 },
 "nbformat": 4,
 "nbformat_minor": 5
}
